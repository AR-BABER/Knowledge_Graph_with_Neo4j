{
 "cells": [
  {
   "cell_type": "markdown",
   "id": "b8e2a3fb-cc4d-4f8d-8f78-97415e849416",
   "metadata": {},
   "source": [
    "# Lesson 3: Preparing Text Data for RAG"
   ]
  },
  {
   "cell_type": "markdown",
   "id": "fafb0f88-0b26-4cdf-9b55-7ce191652155",
   "metadata": {},
   "source": [
    "<p style=\"background-color:#fd4a6180; padding:15px; margin-left:20px\"> <b>Note:</b> This notebook takes about 30 seconds to be ready to use. Please wait until the \"Kernel starting, please wait...\" message clears from the top of the notebook before running any cells. You may start the video while you wait.</p>\n"
   ]
  },
  {
   "cell_type": "markdown",
   "id": "9fb43372-7cff-4dc6-8c47-2885aac4c09a",
   "metadata": {},
   "source": [
    "### Import packages and set up Neo4j"
   ]
  },
  {
   "cell_type": "code",
   "execution_count": 48,
   "id": "e854e1a7-6c56-48e9-b3f0-999b68940726",
   "metadata": {
    "height": 149
   },
   "outputs": [],
   "source": [
    "from dotenv import load_dotenv\n",
    "import os\n",
    "\n",
    "from langchain_community.graphs import Neo4jGraph\n",
    "\n",
    "# Warning control\n",
    "import warnings\n",
    "warnings.filterwarnings(\"ignore\")"
   ]
  },
  {
   "cell_type": "code",
   "execution_count": 49,
   "id": "45e2bd85-1d15-4e91-9e6d-c1b647d8e97d",
   "metadata": {
    "height": 217
   },
   "outputs": [],
   "source": [
    "# # Load from environment\n",
    "# load_dotenv('.env', override=True)\n",
    "# NEO4J_URI = os.getenv('NEO4J_URI')\n",
    "# NEO4J_USERNAME = os.getenv('NEO4J_USERNAME')\n",
    "# NEO4J_PASSWORD = os.getenv('NEO4J_PASSWORD')\n",
    "# NEO4J_DATABASE = os.getenv('NEO4J_DATABASE')\n",
    "# OPENAI_API_KEY = os.getenv('OPENAI_API_KEY')\n",
    "\n",
    "# # Note the code below is unique to this course environment, and not a \n",
    "# # standard part of Neo4j's integration with OpenAI. Remove if running \n",
    "# in your own environment.\n",
    "OPENAI_ENDPOINT = \"https://api.openai.com/v1/embeddings\""
   ]
  },
  {
   "cell_type": "code",
   "execution_count": 50,
   "id": "0c277dd6-23b9-42d0-9d2a-c6aa9948dad9",
   "metadata": {
    "height": 81
   },
   "outputs": [],
   "source": [
    "# Connect to the knowledge graph instance using LangChain\n",
    "\n",
    "NEO4J_URI=\"bolt://localhost:7687\"\n",
    "NEO4J_USERNAME=\"neo4j\"\n",
    "NEO4J_PASSWORD=\"12345678\"\n",
    "NEO4J_DATABASE=\"neo4j\"\n",
    "OPENAI_API_KEY = os.getenv('OPENAI_API_KEY')\n",
    "kg = Neo4jGraph(\n",
    "    url=NEO4J_URI, username=NEO4J_USERNAME, password=NEO4J_PASSWORD, database=NEO4J_DATABASE\n",
    ")"
   ]
  },
  {
   "cell_type": "markdown",
   "id": "b4478433-1ab7-4ad6-ba51-73d54e45d798",
   "metadata": {},
   "source": [
    "### Create a vector index "
   ]
  },
  {
   "cell_type": "code",
   "execution_count": null,
   "id": "b2acc998",
   "metadata": {},
   "outputs": [],
   "source": [
    "# for 5.13\n",
    "# CALL db.index.vector.createNodeIndex(\n",
    "#   'movie_tagline_embeddingss',\n",
    "#   'Movie',\n",
    "#   'taglineEmbedding',  \n",
    "#   1536,\n",
    "#   'cosine'\n",
    "# );"
   ]
  },
  {
   "cell_type": "code",
   "execution_count": 42,
   "id": "a26f80f6-d21a-447f-a5e2-eb940c0a25e4",
   "metadata": {
    "height": 166
   },
   "outputs": [
    {
     "data": {
      "text/plain": [
       "[]"
      ]
     },
     "execution_count": 42,
     "metadata": {},
     "output_type": "execute_result"
    }
   ],
   "source": [
    "# creating vector index assocated with movie nodes and thier taglinemebdding property, even they dont exist\n",
    "\n",
    "kg.query(\"\"\"\n",
    "  CREATE VECTOR INDEX movie_tagline_embeddings IF NOT EXISTS\n",
    "  FOR (m:Movie) ON (m.taglineEmbedding) \n",
    "  OPTIONS { indexConfig: {\n",
    "    `vector.dimensions`: 1536,\n",
    "    `vector.similarity_function`: 'cosine'\n",
    "  }}\"\"\"\n",
    ")\n"
   ]
  },
  {
   "cell_type": "code",
   "execution_count": null,
   "id": "03ed4829",
   "metadata": {},
   "outputs": [],
   "source": [
    "# SHOW INDEXES; 5.13"
   ]
  },
  {
   "cell_type": "code",
   "execution_count": 51,
   "id": "9472ede6-18da-4d13-a5de-0dbad618c0f3",
   "metadata": {
    "height": 81
   },
   "outputs": [
    {
     "data": {
      "text/plain": [
       "[{'id': 4,\n",
       "  'name': 'moviePlots',\n",
       "  'state': 'ONLINE',\n",
       "  'populationPercent': 100.0,\n",
       "  'type': 'VECTOR',\n",
       "  'entityType': 'NODE',\n",
       "  'labelsOrTypes': ['Movie'],\n",
       "  'properties': ['embedding'],\n",
       "  'indexProvider': 'vector-1.0',\n",
       "  'owningConstraint': None,\n",
       "  'lastRead': None,\n",
       "  'readCount': 0},\n",
       " {'id': 3,\n",
       "  'name': 'movie_tagline_embeddingss',\n",
       "  'state': 'ONLINE',\n",
       "  'populationPercent': 100.0,\n",
       "  'type': 'VECTOR',\n",
       "  'entityType': 'NODE',\n",
       "  'labelsOrTypes': ['Movie'],\n",
       "  'properties': ['taglineEmbedding'],\n",
       "  'indexProvider': 'vector-1.0',\n",
       "  'owningConstraint': None,\n",
       "  'lastRead': None,\n",
       "  'readCount': 0}]"
      ]
     },
     "execution_count": 51,
     "metadata": {},
     "output_type": "execute_result"
    }
   ],
   "source": [
    "kg.query(\"\"\"\n",
    "  SHOW VECTOR INDEXES\n",
    "  \"\"\"\n",
    ")"
   ]
  },
  {
   "cell_type": "code",
   "execution_count": 24,
   "id": "569049b5-6ad7-4348-81f8-068bde0f185c",
   "metadata": {
    "height": 30
   },
   "outputs": [
    {
     "data": {
      "text/plain": [
       "[{'count(n)': 38}]"
      ]
     },
     "execution_count": 24,
     "metadata": {},
     "output_type": "execute_result"
    }
   ],
   "source": [
    "cypher = \"\"\"\n",
    "  MATCH (n:Movie) \n",
    "  RETURN count(n)\n",
    "  \"\"\"\n",
    "kg.query(cypher)"
   ]
  },
  {
   "cell_type": "markdown",
   "id": "ebe87478-723a-49e4-a197-b4cccd7153b0",
   "metadata": {},
   "source": [
    "### Populate the vector index\n",
    "- Calculate vector representation for each movie tagline using OpenAI\n",
    "- Add vector to the `Movie` node as `taglineEmbedding` property"
   ]
  },
  {
   "cell_type": "code",
   "execution_count": 35,
   "id": "5921f75b-706d-414a-b7a0-b81623a71a23",
   "metadata": {
    "height": 217
   },
   "outputs": [
    {
     "data": {
      "text/plain": [
       "[]"
      ]
     },
     "execution_count": 35,
     "metadata": {},
     "output_type": "execute_result"
    }
   ],
   "source": [
    "kg.query(\"\"\"\n",
    "    MATCH (movie:Movie) WHERE movie.tagline IS NOT NULL\n",
    "    WITH movie, genai.vector.encode(\n",
    "        movie.tagline, \n",
    "        \"OpenAI\", \n",
    "        {\n",
    "          token: $openAiApiKey,\n",
    "          endpoint: $openAiEndpoint\n",
    "        }) AS vector\n",
    "    CALL db.create.setNodeVectorProperty(movie, \"taglineEmbedding\", vector)\n",
    "    \"\"\", \n",
    "    params={\"openAiApiKey\":OPENAI_API_KEY, \"openAiEndpoint\": OPENAI_ENDPOINT} )"
   ]
  },
  {
   "cell_type": "code",
   "execution_count": 56,
   "id": "5664c5cb",
   "metadata": {},
   "outputs": [
    {
     "name": "stdout",
     "output_type": "stream",
     "text": [
      "[{'n': {'released': 1999, 'taglineEmbedding': None, 'title': 'The Matrix', 'tagline': 'Welcome to the Real World'}}, {'n': {'taglineEmbedding': None, 'born': 1964, 'name': 'Keanu Reeves'}}, {'n': {'taglineEmbedding': None, 'born': 1967, 'name': 'Carrie-Anne Moss'}}, {'n': {'taglineEmbedding': None, 'born': 1961, 'name': 'Laurence Fishburne'}}, {'n': {'taglineEmbedding': None, 'born': 1960, 'name': 'Hugo Weaving'}}, {'n': {'taglineEmbedding': None, 'born': 1967, 'name': 'Andy Wachowski'}}, {'n': {'taglineEmbedding': None, 'born': 1965, 'name': 'Lana Wachowski'}}, {'n': {'taglineEmbedding': None, 'born': 1952, 'name': 'Joel Silver'}}, {'n': {'taglineEmbedding': None, 'born': 1978, 'name': 'Emil Eifrem'}}, {'n': {'released': 2003, 'taglineEmbedding': None, 'title': 'The Matrix Reloaded', 'tagline': 'Free your mind'}}, {'n': {'released': 2003, 'taglineEmbedding': None, 'title': 'The Matrix Revolutions', 'tagline': 'Everything that has a beginning has an end'}}, {'n': {'released': 1997, 'taglineEmbedding': None, 'title': \"The Devil's Advocate\", 'tagline': 'Evil has its winning ways'}}, {'n': {'taglineEmbedding': None, 'born': 1975, 'name': 'Charlize Theron'}}, {'n': {'taglineEmbedding': None, 'born': 1940, 'name': 'Al Pacino'}}, {'n': {'taglineEmbedding': None, 'born': 1944, 'name': 'Taylor Hackford'}}, {'n': {'released': 1992, 'taglineEmbedding': None, 'title': 'A Few Good Men', 'tagline': \"In the heart of the nation's capital, in a courthouse of the U.S. government, one man will stop at nothing to keep his honor, and one will stop at nothing to find the truth.\"}}, {'n': {'taglineEmbedding': None, 'born': 1962, 'name': 'Tom Cruise'}}, {'n': {'taglineEmbedding': None, 'born': 1937, 'name': 'Jack Nicholson'}}, {'n': {'taglineEmbedding': None, 'born': 1962, 'name': 'Demi Moore'}}, {'n': {'taglineEmbedding': None, 'born': 1958, 'name': 'Kevin Bacon'}}, {'n': {'taglineEmbedding': None, 'born': 1966, 'name': 'Kiefer Sutherland'}}, {'n': {'taglineEmbedding': None, 'born': 1971, 'name': 'Noah Wyle'}}, {'n': {'taglineEmbedding': None, 'born': 1968, 'name': 'Cuba Gooding Jr.'}}, {'n': {'taglineEmbedding': None, 'born': 1957, 'name': 'Kevin Pollak'}}, {'n': {'taglineEmbedding': None, 'born': 1943, 'name': 'J.T. Walsh'}}, {'n': {'taglineEmbedding': None, 'born': 1967, 'name': 'James Marshall'}}, {'n': {'taglineEmbedding': None, 'born': 1948, 'name': 'Christopher Guest'}}, {'n': {'taglineEmbedding': None, 'born': 1947, 'name': 'Rob Reiner'}}, {'n': {'taglineEmbedding': None, 'born': 1961, 'name': 'Aaron Sorkin'}}, {'n': {'released': 1986, 'taglineEmbedding': None, 'title': 'Top Gun', 'tagline': 'I feel the need, the need for speed.'}}, {'n': {'taglineEmbedding': None, 'born': 1957, 'name': 'Kelly McGillis'}}, {'n': {'taglineEmbedding': None, 'born': 1959, 'name': 'Val Kilmer'}}, {'n': {'taglineEmbedding': None, 'born': 1962, 'name': 'Anthony Edwards'}}, {'n': {'taglineEmbedding': None, 'born': 1933, 'name': 'Tom Skerritt'}}, {'n': {'taglineEmbedding': None, 'born': 1961, 'name': 'Meg Ryan'}}, {'n': {'taglineEmbedding': None, 'born': 1944, 'name': 'Tony Scott'}}, {'n': {'taglineEmbedding': None, 'born': 1941, 'name': 'Jim Cash'}}, {'n': {'released': 2000, 'taglineEmbedding': None, 'title': 'Jerry Maguire', 'tagline': 'The rest of his life begins now.'}}, {'n': {'taglineEmbedding': None, 'born': 1969, 'name': 'Renee Zellweger'}}, {'n': {'taglineEmbedding': None, 'born': 1962, 'name': 'Kelly Preston'}}, {'n': {'taglineEmbedding': None, 'born': 1974, 'name': \"Jerry O'Connell\"}}, {'n': {'taglineEmbedding': None, 'born': 1970, 'name': 'Jay Mohr'}}, {'n': {'taglineEmbedding': None, 'born': 1961, 'name': 'Bonnie Hunt'}}, {'n': {'taglineEmbedding': None, 'born': 1971, 'name': 'Regina King'}}, {'n': {'taglineEmbedding': None, 'born': 1996, 'name': 'Jonathan Lipnicki'}}, {'n': {'taglineEmbedding': None, 'born': 1957, 'name': 'Cameron Crowe'}}, {'n': {'released': 1986, 'taglineEmbedding': None, 'title': 'Stand By Me', 'tagline': \"For some, it's the last real taste of innocence, and the first real taste of life. But for everyone, it's the time that memories are made of.\"}}, {'n': {'taglineEmbedding': None, 'born': 1970, 'name': 'River Phoenix'}}, {'n': {'taglineEmbedding': None, 'born': 1971, 'name': 'Corey Feldman'}}, {'n': {'taglineEmbedding': None, 'born': 1972, 'name': 'Wil Wheaton'}}, {'n': {'taglineEmbedding': None, 'born': 1966, 'name': 'John Cusack'}}, {'n': {'taglineEmbedding': None, 'born': 1942, 'name': 'Marshall Bell'}}, {'n': {'released': 1997, 'taglineEmbedding': None, 'title': 'As Good as It Gets', 'tagline': 'A comedy from the heart that goes for the throat.'}}, {'n': {'taglineEmbedding': None, 'born': 1963, 'name': 'Helen Hunt'}}, {'n': {'taglineEmbedding': None, 'born': 1963, 'name': 'Greg Kinnear'}}, {'n': {'taglineEmbedding': None, 'born': 1940, 'name': 'James L. Brooks'}}, {'n': {'released': 1998, 'taglineEmbedding': None, 'title': 'What Dreams May Come', 'tagline': 'After life there is more. The end is just the beginning.'}}, {'n': {'taglineEmbedding': None, 'born': 1960, 'name': 'Annabella Sciorra'}}, {'n': {'taglineEmbedding': None, 'born': 1929, 'name': 'Max von Sydow'}}, {'n': {'taglineEmbedding': None, 'born': 1942, 'name': 'Werner Herzog'}}, {'n': {'taglineEmbedding': None, 'born': 1951, 'name': 'Robin Williams'}}, {'n': {'taglineEmbedding': None, 'born': 1956, 'name': 'Vincent Ward'}}, {'n': {'released': 1999, 'taglineEmbedding': None, 'title': 'Snow Falling on Cedars', 'tagline': 'First loves last. Forever.'}}, {'n': {'taglineEmbedding': None, 'born': 1970, 'name': 'Ethan Hawke'}}, {'n': {'taglineEmbedding': None, 'born': 1971, 'name': 'Rick Yune'}}, {'n': {'taglineEmbedding': None, 'born': 1940, 'name': 'James Cromwell'}}, {'n': {'taglineEmbedding': None, 'born': 1953, 'name': 'Scott Hicks'}}, {'n': {'released': 1998, 'taglineEmbedding': None, 'title': \"You've Got Mail\", 'tagline': 'At odds in life... in love on-line.'}}, {'n': {'taglineEmbedding': None, 'born': 1968, 'name': 'Parker Posey'}}, {'n': {'taglineEmbedding': None, 'born': 1973, 'name': 'Dave Chappelle'}}, {'n': {'taglineEmbedding': None, 'born': 1967, 'name': 'Steve Zahn'}}, {'n': {'taglineEmbedding': None, 'born': 1956, 'name': 'Tom Hanks'}}, {'n': {'taglineEmbedding': None, 'born': 1941, 'name': 'Nora Ephron'}}, {'n': {'released': 1993, 'taglineEmbedding': None, 'title': 'Sleepless in Seattle', 'tagline': 'What if someone you never met, someone you never saw, someone you never knew was the only someone for you?'}}, {'n': {'taglineEmbedding': None, 'born': 1956, 'name': 'Rita Wilson'}}, {'n': {'taglineEmbedding': None, 'born': 1953, 'name': 'Bill Pullman'}}, {'n': {'taglineEmbedding': None, 'born': 1949, 'name': 'Victor Garber'}}, {'n': {'taglineEmbedding': None, 'born': 1962, 'name': \"Rosie O'Donnell\"}}, {'n': {'released': 1990, 'taglineEmbedding': None, 'title': 'Joe Versus the Volcano', 'tagline': 'A story of love, lava and burning desire.'}}, {'n': {'taglineEmbedding': None, 'born': 1950, 'name': 'John Patrick Stanley'}}, {'n': {'taglineEmbedding': None, 'born': 1956, 'name': 'Nathan Lane'}}, {'n': {'released': 1998, 'taglineEmbedding': None, 'title': 'When Harry Met Sally', 'tagline': 'At odds in life... in love on-line.'}}, {'n': {'taglineEmbedding': None, 'born': 1948, 'name': 'Billy Crystal'}}, {'n': {'taglineEmbedding': None, 'born': 1956, 'name': 'Carrie Fisher'}}, {'n': {'taglineEmbedding': None, 'born': 1949, 'name': 'Bruno Kirby'}}, {'n': {'released': 1996, 'taglineEmbedding': None, 'title': 'That Thing You Do', 'tagline': 'In every life there comes a time when that thing you dream becomes that thing you do'}}, {'n': {'taglineEmbedding': None, 'born': 1977, 'name': 'Liv Tyler'}}, {'n': {'released': 2000, 'taglineEmbedding': None, 'title': 'The Replacements', 'tagline': 'Pain heals, Chicks dig scars... Glory lasts forever'}}, {'n': {'taglineEmbedding': None, 'born': 1970, 'name': 'Brooke Langton'}}, {'n': {'taglineEmbedding': None, 'born': 1930, 'name': 'Gene Hackman'}}, {'n': {'taglineEmbedding': None, 'born': 1968, 'name': 'Orlando Jones'}}, {'n': {'taglineEmbedding': None, 'born': 1950, 'name': 'Howard Deutch'}}, {'n': {'released': 2006, 'taglineEmbedding': None, 'title': 'RescueDawn', 'tagline': \"Based on the extraordinary true story of one man's fight for freedom\"}}, {'n': {'taglineEmbedding': None, 'born': 1974, 'name': 'Christian Bale'}}, {'n': {'taglineEmbedding': None, 'born': 1954, 'name': 'Zach Grenier'}}, {'n': {'released': 1996, 'taglineEmbedding': None, 'title': 'The Birdcage', 'tagline': 'Come as you are'}}, {'n': {'taglineEmbedding': None, 'born': 1931, 'name': 'Mike Nichols'}}, {'n': {'released': 1992, 'taglineEmbedding': None, 'title': 'Unforgiven', 'tagline': \"It's a hell of a thing, killing a man\"}}, {'n': {'taglineEmbedding': None, 'born': 1930, 'name': 'Richard Harris'}}, {'n': {'taglineEmbedding': None, 'born': 1930, 'name': 'Clint Eastwood'}}, {'n': {'released': 1995, 'taglineEmbedding': None, 'title': 'Johnny Mnemonic', 'tagline': 'The hottest data on earth. In the coolest head in town'}}, {'n': {'taglineEmbedding': None, 'born': 1947, 'name': 'Takeshi Kitano'}}, {'n': {'taglineEmbedding': None, 'born': 1968, 'name': 'Dina Meyer'}}, {'n': {'taglineEmbedding': None, 'born': 1958, 'name': 'Ice-T'}}, {'n': {'taglineEmbedding': None, 'born': 1953, 'name': 'Robert Longo'}}, {'n': {'released': 2012, 'taglineEmbedding': None, 'title': 'Cloud Atlas', 'tagline': 'Everything is connected'}}, {'n': {'taglineEmbedding': None, 'born': 1966, 'name': 'Halle Berry'}}, {'n': {'taglineEmbedding': None, 'born': 1949, 'name': 'Jim Broadbent'}}, {'n': {'taglineEmbedding': None, 'born': 1965, 'name': 'Tom Tykwer'}}, {'n': {'released': 2006, 'taglineEmbedding': None, 'title': 'The Da Vinci Code', 'tagline': 'Break The Codes'}}, {'n': {'taglineEmbedding': None, 'born': 1939, 'name': 'Ian McKellen'}}, {'n': {'taglineEmbedding': None, 'born': 1976, 'name': 'Audrey Tautou'}}, {'n': {'taglineEmbedding': None, 'born': 1971, 'name': 'Paul Bettany'}}, {'n': {'taglineEmbedding': None, 'born': 1954, 'name': 'Ron Howard'}}, {'n': {'released': 2006, 'taglineEmbedding': None, 'title': 'V for Vendetta', 'tagline': 'Freedom! Forever!'}}, {'n': {'taglineEmbedding': None, 'born': 1981, 'name': 'Natalie Portman'}}, {'n': {'taglineEmbedding': None, 'born': 1946, 'name': 'Stephen Rea'}}, {'n': {'taglineEmbedding': None, 'born': 1940, 'name': 'John Hurt'}}, {'n': {'taglineEmbedding': None, 'born': 1967, 'name': 'Ben Miles'}}, {'n': {'released': 2008, 'taglineEmbedding': None, 'title': 'Speed Racer', 'tagline': 'Speed has no limits'}}, {'n': {'taglineEmbedding': None, 'born': 1985, 'name': 'Emile Hirsch'}}, {'n': {'taglineEmbedding': None, 'born': 1960, 'name': 'John Goodman'}}, {'n': {'taglineEmbedding': None, 'born': 1946, 'name': 'Susan Sarandon'}}, {'n': {'taglineEmbedding': None, 'born': 1966, 'name': 'Matthew Fox'}}, {'n': {'taglineEmbedding': None, 'born': 1980, 'name': 'Christina Ricci'}}, {'n': {'taglineEmbedding': None, 'born': 1982, 'name': 'Rain'}}, {'n': {'released': 2009, 'taglineEmbedding': None, 'title': 'Ninja Assassin', 'tagline': 'Prepare to enter a secret world of assassins'}}, {'n': {'taglineEmbedding': None, 'name': 'Naomie Harris'}}, {'n': {'released': 1999, 'taglineEmbedding': None, 'title': 'The Green Mile', 'tagline': \"Walk a mile you'll never forget.\"}}, {'n': {'taglineEmbedding': None, 'born': 1957, 'name': 'Michael Clarke Duncan'}}, {'n': {'taglineEmbedding': None, 'born': 1953, 'name': 'David Morse'}}, {'n': {'taglineEmbedding': None, 'born': 1968, 'name': 'Sam Rockwell'}}, {'n': {'taglineEmbedding': None, 'born': 1955, 'name': 'Gary Sinise'}}, {'n': {'taglineEmbedding': None, 'born': 1959, 'name': 'Patricia Clarkson'}}, {'n': {'taglineEmbedding': None, 'born': 1959, 'name': 'Frank Darabont'}}, {'n': {'released': 2008, 'taglineEmbedding': None, 'title': 'Frost/Nixon', 'tagline': '400 million people were waiting for the truth.'}}, {'n': {'taglineEmbedding': None, 'born': 1938, 'name': 'Frank Langella'}}, {'n': {'taglineEmbedding': None, 'born': 1969, 'name': 'Michael Sheen'}}, {'n': {'taglineEmbedding': None, 'born': 1960, 'name': 'Oliver Platt'}}, {'n': {'released': 1992, 'taglineEmbedding': None, 'title': 'Hoffa', 'tagline': \"He didn't want law. He wanted justice.\"}}, {'n': {'taglineEmbedding': None, 'born': 1944, 'name': 'Danny DeVito'}}, {'n': {'taglineEmbedding': None, 'born': 1965, 'name': 'John C. Reilly'}}, {'n': {'released': 1995, 'taglineEmbedding': None, 'title': 'Apollo 13', 'tagline': 'Houston, we have a problem.'}}, {'n': {'taglineEmbedding': None, 'born': 1950, 'name': 'Ed Harris'}}, {'n': {'taglineEmbedding': None, 'born': 1955, 'name': 'Bill Paxton'}}, {'n': {'released': 1996, 'taglineEmbedding': None, 'title': 'Twister', 'tagline': \"Don't Breathe. Don't Look Back.\"}}, {'n': {'taglineEmbedding': None, 'born': 1967, 'name': 'Philip Seymour Hoffman'}}, {'n': {'taglineEmbedding': None, 'born': 1943, 'name': 'Jan de Bont'}}, {'n': {'released': 2000, 'taglineEmbedding': None, 'title': 'Cast Away', 'tagline': 'At the edge of the world, his journey begins.'}}, {'n': {'taglineEmbedding': None, 'born': 1951, 'name': 'Robert Zemeckis'}}, {'n': {'released': 1975, 'taglineEmbedding': None, 'title': \"One Flew Over the Cuckoo's Nest\", 'tagline': \"If he's crazy, what does that make you?\"}}, {'n': {'taglineEmbedding': None, 'born': 1932, 'name': 'Milos Forman'}}, {'n': {'released': 2003, 'taglineEmbedding': None, 'title': \"Something's Gotta Give\"}}, {'n': {'taglineEmbedding': None, 'born': 1946, 'name': 'Diane Keaton'}}, {'n': {'taglineEmbedding': None, 'born': 1949, 'name': 'Nancy Meyers'}}, {'n': {'released': 1999, 'taglineEmbedding': None, 'title': 'Bicentennial Man', 'tagline': \"One robot's 200 year journey to become an ordinary man.\"}}, {'n': {'taglineEmbedding': None, 'born': 1958, 'name': 'Chris Columbus'}}, {'n': {'released': 2007, 'taglineEmbedding': None, 'title': \"Charlie Wilson's War\", 'tagline': \"A stiff drink. A little mascara. A lot of nerve. Who said they couldn't bring down the Soviet empire.\"}}, {'n': {'taglineEmbedding': None, 'born': 1967, 'name': 'Julia Roberts'}}, {'n': {'released': 2004, 'taglineEmbedding': None, 'title': 'The Polar Express', 'tagline': 'This Holiday Season… Believe'}}, {'n': {'released': 1992, 'taglineEmbedding': None, 'title': 'A League of Their Own', 'tagline': 'Once in a lifetime you get a chance to do something different.'}}, {'n': {'taglineEmbedding': None, 'born': 1954, 'name': 'Madonna'}}, {'n': {'taglineEmbedding': None, 'born': 1956, 'name': 'Geena Davis'}}, {'n': {'taglineEmbedding': None, 'born': 1963, 'name': 'Lori Petty'}}, {'n': {'taglineEmbedding': None, 'born': 1943, 'name': 'Penny Marshall'}}, {'n': {'taglineEmbedding': None, 'name': 'Paul Blythe'}}, {'n': {'taglineEmbedding': None, 'name': 'Angela Scope'}}, {'n': {'taglineEmbedding': None, 'name': 'Jessica Thompson'}}, {'n': {'taglineEmbedding': None, 'name': 'James Thompson'}}]\n"
     ]
    }
   ],
   "source": [
    "result = kg.query(\"\"\"MATCH (n)\n",
    "RETURN n { .* , taglineEmbedding: null }\n",
    " \"\"\"\n",
    ")\n",
    "print(result)"
   ]
  },
  {
   "cell_type": "code",
   "execution_count": 58,
   "id": "f47caca3",
   "metadata": {},
   "outputs": [
    {
     "name": "stdout",
     "output_type": "stream",
     "text": [
      "[{'n': {'born': 1964, 'name': 'Keanu Reeves'}}, {'n': {'born': 1967, 'name': 'Carrie-Anne Moss'}}, {'n': {'born': 1961, 'name': 'Laurence Fishburne'}}, {'n': {'born': 1960, 'name': 'Hugo Weaving'}}, {'n': {'born': 1967, 'name': 'Andy Wachowski'}}, {'n': {'born': 1965, 'name': 'Lana Wachowski'}}, {'n': {'born': 1952, 'name': 'Joel Silver'}}, {'n': {'born': 1978, 'name': 'Emil Eifrem'}}, {'n': {'born': 1975, 'name': 'Charlize Theron'}}, {'n': {'born': 1940, 'name': 'Al Pacino'}}, {'n': {'born': 1944, 'name': 'Taylor Hackford'}}, {'n': {'born': 1962, 'name': 'Tom Cruise'}}, {'n': {'born': 1937, 'name': 'Jack Nicholson'}}, {'n': {'born': 1962, 'name': 'Demi Moore'}}, {'n': {'born': 1958, 'name': 'Kevin Bacon'}}, {'n': {'born': 1966, 'name': 'Kiefer Sutherland'}}, {'n': {'born': 1971, 'name': 'Noah Wyle'}}, {'n': {'born': 1968, 'name': 'Cuba Gooding Jr.'}}, {'n': {'born': 1957, 'name': 'Kevin Pollak'}}, {'n': {'born': 1943, 'name': 'J.T. Walsh'}}, {'n': {'born': 1967, 'name': 'James Marshall'}}, {'n': {'born': 1948, 'name': 'Christopher Guest'}}, {'n': {'born': 1947, 'name': 'Rob Reiner'}}, {'n': {'born': 1961, 'name': 'Aaron Sorkin'}}, {'n': {'born': 1957, 'name': 'Kelly McGillis'}}, {'n': {'born': 1959, 'name': 'Val Kilmer'}}, {'n': {'born': 1962, 'name': 'Anthony Edwards'}}, {'n': {'born': 1933, 'name': 'Tom Skerritt'}}, {'n': {'born': 1961, 'name': 'Meg Ryan'}}, {'n': {'born': 1944, 'name': 'Tony Scott'}}, {'n': {'born': 1941, 'name': 'Jim Cash'}}, {'n': {'born': 1969, 'name': 'Renee Zellweger'}}, {'n': {'born': 1962, 'name': 'Kelly Preston'}}, {'n': {'born': 1974, 'name': \"Jerry O'Connell\"}}, {'n': {'born': 1970, 'name': 'Jay Mohr'}}, {'n': {'born': 1961, 'name': 'Bonnie Hunt'}}, {'n': {'born': 1971, 'name': 'Regina King'}}, {'n': {'born': 1996, 'name': 'Jonathan Lipnicki'}}, {'n': {'born': 1957, 'name': 'Cameron Crowe'}}, {'n': {'born': 1970, 'name': 'River Phoenix'}}, {'n': {'born': 1971, 'name': 'Corey Feldman'}}, {'n': {'born': 1972, 'name': 'Wil Wheaton'}}, {'n': {'born': 1966, 'name': 'John Cusack'}}, {'n': {'born': 1942, 'name': 'Marshall Bell'}}, {'n': {'born': 1963, 'name': 'Helen Hunt'}}, {'n': {'born': 1963, 'name': 'Greg Kinnear'}}, {'n': {'born': 1940, 'name': 'James L. Brooks'}}, {'n': {'born': 1960, 'name': 'Annabella Sciorra'}}, {'n': {'born': 1929, 'name': 'Max von Sydow'}}, {'n': {'born': 1942, 'name': 'Werner Herzog'}}, {'n': {'born': 1951, 'name': 'Robin Williams'}}, {'n': {'born': 1956, 'name': 'Vincent Ward'}}, {'n': {'born': 1970, 'name': 'Ethan Hawke'}}, {'n': {'born': 1971, 'name': 'Rick Yune'}}, {'n': {'born': 1940, 'name': 'James Cromwell'}}, {'n': {'born': 1953, 'name': 'Scott Hicks'}}, {'n': {'born': 1968, 'name': 'Parker Posey'}}, {'n': {'born': 1973, 'name': 'Dave Chappelle'}}, {'n': {'born': 1967, 'name': 'Steve Zahn'}}, {'n': {'born': 1956, 'name': 'Tom Hanks'}}, {'n': {'born': 1941, 'name': 'Nora Ephron'}}, {'n': {'born': 1956, 'name': 'Rita Wilson'}}, {'n': {'born': 1953, 'name': 'Bill Pullman'}}, {'n': {'born': 1949, 'name': 'Victor Garber'}}, {'n': {'born': 1962, 'name': \"Rosie O'Donnell\"}}, {'n': {'born': 1950, 'name': 'John Patrick Stanley'}}, {'n': {'born': 1956, 'name': 'Nathan Lane'}}, {'n': {'born': 1948, 'name': 'Billy Crystal'}}, {'n': {'born': 1956, 'name': 'Carrie Fisher'}}, {'n': {'born': 1949, 'name': 'Bruno Kirby'}}, {'n': {'born': 1977, 'name': 'Liv Tyler'}}, {'n': {'born': 1970, 'name': 'Brooke Langton'}}, {'n': {'born': 1930, 'name': 'Gene Hackman'}}, {'n': {'born': 1968, 'name': 'Orlando Jones'}}, {'n': {'born': 1950, 'name': 'Howard Deutch'}}, {'n': {'born': 1974, 'name': 'Christian Bale'}}, {'n': {'born': 1954, 'name': 'Zach Grenier'}}, {'n': {'born': 1931, 'name': 'Mike Nichols'}}, {'n': {'born': 1930, 'name': 'Richard Harris'}}, {'n': {'born': 1930, 'name': 'Clint Eastwood'}}, {'n': {'born': 1947, 'name': 'Takeshi Kitano'}}, {'n': {'born': 1968, 'name': 'Dina Meyer'}}, {'n': {'born': 1958, 'name': 'Ice-T'}}, {'n': {'born': 1953, 'name': 'Robert Longo'}}, {'n': {'born': 1966, 'name': 'Halle Berry'}}, {'n': {'born': 1949, 'name': 'Jim Broadbent'}}, {'n': {'born': 1965, 'name': 'Tom Tykwer'}}, {'n': {'born': 1939, 'name': 'Ian McKellen'}}, {'n': {'born': 1976, 'name': 'Audrey Tautou'}}, {'n': {'born': 1971, 'name': 'Paul Bettany'}}, {'n': {'born': 1954, 'name': 'Ron Howard'}}, {'n': {'born': 1981, 'name': 'Natalie Portman'}}, {'n': {'born': 1946, 'name': 'Stephen Rea'}}, {'n': {'born': 1940, 'name': 'John Hurt'}}, {'n': {'born': 1967, 'name': 'Ben Miles'}}, {'n': {'born': 1985, 'name': 'Emile Hirsch'}}, {'n': {'born': 1960, 'name': 'John Goodman'}}, {'n': {'born': 1946, 'name': 'Susan Sarandon'}}, {'n': {'born': 1966, 'name': 'Matthew Fox'}}, {'n': {'born': 1980, 'name': 'Christina Ricci'}}, {'n': {'born': 1982, 'name': 'Rain'}}, {'n': {'name': 'Naomie Harris'}}, {'n': {'born': 1957, 'name': 'Michael Clarke Duncan'}}, {'n': {'born': 1953, 'name': 'David Morse'}}, {'n': {'born': 1968, 'name': 'Sam Rockwell'}}, {'n': {'born': 1955, 'name': 'Gary Sinise'}}, {'n': {'born': 1959, 'name': 'Patricia Clarkson'}}, {'n': {'born': 1959, 'name': 'Frank Darabont'}}, {'n': {'born': 1938, 'name': 'Frank Langella'}}, {'n': {'born': 1969, 'name': 'Michael Sheen'}}, {'n': {'born': 1960, 'name': 'Oliver Platt'}}, {'n': {'born': 1944, 'name': 'Danny DeVito'}}, {'n': {'born': 1965, 'name': 'John C. Reilly'}}, {'n': {'born': 1950, 'name': 'Ed Harris'}}, {'n': {'born': 1955, 'name': 'Bill Paxton'}}, {'n': {'born': 1967, 'name': 'Philip Seymour Hoffman'}}, {'n': {'born': 1943, 'name': 'Jan de Bont'}}, {'n': {'born': 1951, 'name': 'Robert Zemeckis'}}, {'n': {'born': 1932, 'name': 'Milos Forman'}}, {'n': {'born': 1946, 'name': 'Diane Keaton'}}, {'n': {'born': 1949, 'name': 'Nancy Meyers'}}, {'n': {'born': 1958, 'name': 'Chris Columbus'}}, {'n': {'born': 1967, 'name': 'Julia Roberts'}}, {'n': {'born': 1954, 'name': 'Madonna'}}, {'n': {'born': 1956, 'name': 'Geena Davis'}}, {'n': {'born': 1963, 'name': 'Lori Petty'}}, {'n': {'born': 1943, 'name': 'Penny Marshall'}}, {'n': {'name': 'Paul Blythe'}}, {'n': {'name': 'Angela Scope'}}, {'n': {'name': 'Jessica Thompson'}}, {'n': {'name': 'James Thompson'}}]\n"
     ]
    }
   ],
   "source": [
    "result = kg.query(\"\"\"MATCH (n:Person)\n",
    "RETURN n { .* }\n",
    " \"\"\"\n",
    ")\n",
    "print(result)"
   ]
  },
  {
   "cell_type": "code",
   "execution_count": 36,
   "id": "73efe0c6-d3e9-4815-9154-04f177101f17",
   "metadata": {
    "height": 132
   },
   "outputs": [],
   "source": [
    "result = kg.query(\"\"\"\n",
    "    MATCH (m:Movie) \n",
    "    WHERE m.tagline IS NOT NULL\n",
    "    RETURN m.tagline, m.taglineEmbedding\n",
    "    LIMIT 1\n",
    "    \"\"\"\n",
    ")"
   ]
  },
  {
   "cell_type": "code",
   "execution_count": 37,
   "id": "71f4fe0b-01da-493f-862b-36a60842d648",
   "metadata": {
    "height": 30
   },
   "outputs": [
    {
     "data": {
      "text/plain": [
       "'Welcome to the Real World'"
      ]
     },
     "execution_count": 37,
     "metadata": {},
     "output_type": "execute_result"
    }
   ],
   "source": [
    "result[0]['m.tagline']"
   ]
  },
  {
   "cell_type": "code",
   "execution_count": 38,
   "id": "93c3fe17-7310-4e11-84c3-4955c8ed8f1a",
   "metadata": {
    "height": 30
   },
   "outputs": [
    {
     "data": {
      "text/plain": [
       "[0.017445066943764687,\n",
       " -0.005481892731040716,\n",
       " -0.002013522433117032,\n",
       " -0.025571243837475777,\n",
       " -0.014404304325580597,\n",
       " 0.016737302765250206,\n",
       " -0.017078077420592308,\n",
       " 0.000485358847072348,\n",
       " -0.025217361748218536,\n",
       " -0.029516370967030525]"
      ]
     },
     "execution_count": 38,
     "metadata": {},
     "output_type": "execute_result"
    }
   ],
   "source": [
    "result[0]['m.taglineEmbedding'][:10]"
   ]
  },
  {
   "cell_type": "code",
   "execution_count": 39,
   "id": "221af96b-63ce-4a95-8d23-47f9aa8c3a4e",
   "metadata": {
    "height": 30
   },
   "outputs": [
    {
     "data": {
      "text/plain": [
       "1536"
      ]
     },
     "execution_count": 39,
     "metadata": {},
     "output_type": "execute_result"
    }
   ],
   "source": [
    "len(result[0]['m.taglineEmbedding'])"
   ]
  },
  {
   "cell_type": "code",
   "execution_count": null,
   "id": "03365be1-4aaa-4440-bbc5-0df650fd9013",
   "metadata": {
    "height": 30
   },
   "outputs": [],
   "source": []
  },
  {
   "cell_type": "markdown",
   "id": "790b238d-9189-4111-962b-1bf3dfcdad05",
   "metadata": {},
   "source": [
    "### Similarity search\n",
    "- Calculate embedding for question\n",
    "- Identify matching movies based on similarity of question and `taglineEmbedding` vectors"
   ]
  },
  {
   "cell_type": "code",
   "execution_count": 40,
   "id": "5648d30a-ab89-4fa1-ad61-35bbb43ef102",
   "metadata": {
    "height": 30
   },
   "outputs": [],
   "source": [
    "question = \"What movies are about love?\""
   ]
  },
  {
   "cell_type": "code",
   "execution_count": null,
   "id": "6b1bc582-fd8e-4a2f-8347-fb62cbfec1c2",
   "metadata": {
    "height": 353
   },
   "outputs": [
    {
     "data": {
      "text/plain": [
       "[{'movie.title': 'Joe Versus the Volcano',\n",
       "  'movie.tagline': 'A story of love, lava and burning desire.',\n",
       "  'score': 0.9062913656234741},\n",
       " {'movie.title': 'As Good as It Gets',\n",
       "  'movie.tagline': 'A comedy from the heart that goes for the throat.',\n",
       "  'score': 0.9022629261016846},\n",
       " {'movie.title': 'Snow Falling on Cedars',\n",
       "  'movie.tagline': 'First loves last. Forever.',\n",
       "  'score': 0.9013131856918335},\n",
       " {'movie.title': 'Sleepless in Seattle',\n",
       "  'movie.tagline': 'What if someone you never met, someone you never saw, someone you never knew was the only someone for you?',\n",
       "  'score': 0.8945093750953674},\n",
       " {'movie.title': \"You've Got Mail\",\n",
       "  'movie.tagline': 'At odds in life... in love on-line.',\n",
       "  'score': 0.8920691013336182}]"
      ]
     },
     "execution_count": 45,
     "metadata": {},
     "output_type": "execute_result"
    }
   ],
   "source": [
    "\n",
    "#yield clause return output of a procedure, here the output was movie node and similarity score\n",
    "#also i was right, vector index just refer to the embeddings place resides.\n",
    "\n",
    "kg.query(\"\"\"\n",
    "    WITH genai.vector.encode(\n",
    "        $question, \n",
    "        \"OpenAI\", \n",
    "        {\n",
    "          token: $openAiApiKey,\n",
    "          endpoint: $openAiEndpoint\n",
    "        }) AS question_embedding\n",
    "    CALL db.index.vector.queryNodes(\n",
    "        'movie_tagline_embeddingss', \n",
    "        $top_k, \n",
    "        question_embedding\n",
    "        ) YIELD node AS movie, score\n",
    "    RETURN movie.title, movie.tagline, score\n",
    "    \"\"\", \n",
    "    params={\"openAiApiKey\":OPENAI_API_KEY,\n",
    "            \"openAiEndpoint\": OPENAI_ENDPOINT,\n",
    "            \"question\": question,\n",
    "            \"top_k\": 5\n",
    "            })"
   ]
  },
  {
   "cell_type": "markdown",
   "id": "0d3c6eaa-aaea-4a03-b9f8-3c0ead98e83b",
   "metadata": {},
   "source": [
    "### Try for yourself: ask you own question!\n",
    "- Change the question below and run the graph query to find different movies"
   ]
  },
  {
   "cell_type": "code",
   "execution_count": 46,
   "id": "21b08047-0086-4291-8d62-fb646de330fa",
   "metadata": {
    "height": 30
   },
   "outputs": [],
   "source": [
    "question = \"What movies are about adventure?\""
   ]
  },
  {
   "cell_type": "code",
   "execution_count": 47,
   "id": "7cdc7751-dddf-46b8-a74b-3d7c5544748f",
   "metadata": {
    "height": 285
   },
   "outputs": [
    {
     "data": {
      "text/plain": [
       "[{'movie.title': 'RescueDawn',\n",
       "  'movie.tagline': \"Based on the extraordinary true story of one man's fight for freedom\",\n",
       "  'score': 0.8998091816902161},\n",
       " {'movie.title': 'Cast Away',\n",
       "  'movie.tagline': 'At the edge of the world, his journey begins.',\n",
       "  'score': 0.8982738256454468},\n",
       " {'movie.title': 'Ninja Assassin',\n",
       "  'movie.tagline': 'Prepare to enter a secret world of assassins',\n",
       "  'score': 0.8880560398101807},\n",
       " {'movie.title': 'Joe Versus the Volcano',\n",
       "  'movie.tagline': 'A story of love, lava and burning desire.',\n",
       "  'score': 0.8870126008987427},\n",
       " {'movie.title': 'As Good as It Gets',\n",
       "  'movie.tagline': 'A comedy from the heart that goes for the throat.',\n",
       "  'score': 0.8856381773948669}]"
      ]
     },
     "execution_count": 47,
     "metadata": {},
     "output_type": "execute_result"
    }
   ],
   "source": [
    "kg.query(\"\"\"\n",
    "    WITH genai.vector.encode(\n",
    "        $question, \n",
    "        \"OpenAI\", \n",
    "        {\n",
    "          token: $openAiApiKey,\n",
    "          endpoint: $openAiEndpoint\n",
    "        }) AS question_embedding\n",
    "    CALL db.index.vector.queryNodes(\n",
    "        'movie_tagline_embeddingss', \n",
    "        $top_k, \n",
    "        question_embedding\n",
    "        ) YIELD node AS movie, score\n",
    "    RETURN movie.title, movie.tagline, score\n",
    "    \"\"\", \n",
    "    params={\"openAiApiKey\":OPENAI_API_KEY,\n",
    "            \"openAiEndpoint\": OPENAI_ENDPOINT,\n",
    "            \"question\": question,\n",
    "            \"top_k\": 5\n",
    "            })"
   ]
  }
 ],
 "metadata": {
  "kernelspec": {
   "display_name": "Python 3",
   "language": "python",
   "name": "python3"
  },
  "language_info": {
   "codemirror_mode": {
    "name": "ipython",
    "version": 3
   },
   "file_extension": ".py",
   "mimetype": "text/x-python",
   "name": "python",
   "nbconvert_exporter": "python",
   "pygments_lexer": "ipython3",
   "version": "3.12.2"
  }
 },
 "nbformat": 4,
 "nbformat_minor": 5
}
